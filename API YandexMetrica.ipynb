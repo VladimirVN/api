{
 "cells": [
  {
   "cell_type": "code",
   "execution_count": 34,
   "metadata": {},
   "outputs": [],
   "source": [
    "############################################################################\n",
    "# Использование API Google SpreadSheets\n",
    "############################################################################\n",
    "\n",
    "\n",
    "############################################################################\n",
    "# Описание API\n",
    "#\n",
    "# API для Yandex.Metrica, позволяет программно выполнять действия, \n",
    "# например, отправлять файлы.\n",
    "# Документация по API Yandex.Metrica: \n",
    "# https://yandex.ru/dev/metrika/doc/api2/api_v1/attrandmetr/dim_all.html\n",
    "###########################################################################"
   ]
  },
  {
   "cell_type": "code",
   "execution_count": 35,
   "metadata": {},
   "outputs": [],
   "source": [
    "# Импортируем библиотеки\n",
    "\n",
    "import pandas as pd\n",
    "import datetime\n",
    "import os\n",
    "import random\n",
    "import sys\n",
    "import requests\n",
    "import json\n",
    "from urllib.parse import urlencode\n",
    "import gspread\n",
    "from oauth2client.service_account import ServiceAccountCredentials\n",
    "from df2gspread import df2gspread as d2g"
   ]
  },
  {
   "cell_type": "code",
   "execution_count": 36,
   "metadata": {},
   "outputs": [],
   "source": [
    "# Базовый URL сервиса\n",
    "\n",
    "url = 'https://api-metrika.yandex.net/stat/v1/data?'"
   ]
  },
  {
   "cell_type": "code",
   "execution_count": 37,
   "metadata": {},
   "outputs": [],
   "source": [
    "# Параметры запроса, разделенные '&', в виде 'имя=значение', взятые с сайта Яндекс.Метрики (отчет по \"Визитам пользователей\")\n",
    "\n",
    "visits = 'metrics=ym:s:visits&dimensions=ym:s:date&id=44147844'\n",
    "url = url + visits"
   ]
  },
  {
   "cell_type": "code",
   "execution_count": 38,
   "metadata": {},
   "outputs": [
    {
     "data": {
      "text/plain": [
       "<Response [200]>"
      ]
     },
     "execution_count": 38,
     "metadata": {},
     "output_type": "execute_result"
    }
   ],
   "source": [
    "# Код ответа о статусе \"200\" указывает, что запрос выполнен успешно\n",
    "\n",
    "vistis_request = requests.get(url)\n",
    "vistis_request"
   ]
  },
  {
   "cell_type": "code",
   "execution_count": 39,
   "metadata": {},
   "outputs": [],
   "source": [
    "# Получаем файл json\n",
    "\n",
    "query = requests.get(url)\n",
    "json_data = json.loads(query.text)"
   ]
  },
  {
   "cell_type": "code",
   "execution_count": 40,
   "metadata": {},
   "outputs": [
    {
     "data": {
      "text/plain": [
       "[{'dimensions': [{'name': '2022-05-04'}], 'metrics': [1312.0]},\n",
       " {'dimensions': [{'name': '2022-05-05'}], 'metrics': [1269.0]},\n",
       " {'dimensions': [{'name': '2022-05-06'}], 'metrics': [1134.0]},\n",
       " {'dimensions': [{'name': '2022-05-03'}], 'metrics': [748.0]},\n",
       " {'dimensions': [{'name': '2022-05-02'}], 'metrics': [648.0]},\n",
       " {'dimensions': [{'name': '2022-05-07'}], 'metrics': [513.0]},\n",
       " {'dimensions': [{'name': '2022-05-08'}], 'metrics': [405.0]}]"
      ]
     },
     "execution_count": 40,
     "metadata": {},
     "output_type": "execute_result"
    }
   ],
   "source": [
    "json_data['data']"
   ]
  },
  {
   "cell_type": "code",
   "execution_count": 41,
   "metadata": {},
   "outputs": [
    {
     "data": {
      "text/html": [
       "<div>\n",
       "<style scoped>\n",
       "    .dataframe tbody tr th:only-of-type {\n",
       "        vertical-align: middle;\n",
       "    }\n",
       "\n",
       "    .dataframe tbody tr th {\n",
       "        vertical-align: top;\n",
       "    }\n",
       "\n",
       "    .dataframe thead th {\n",
       "        text-align: right;\n",
       "    }\n",
       "</style>\n",
       "<table border=\"1\" class=\"dataframe\">\n",
       "  <thead>\n",
       "    <tr style=\"text-align: right;\">\n",
       "      <th></th>\n",
       "      <th>date</th>\n",
       "      <th>visits</th>\n",
       "    </tr>\n",
       "  </thead>\n",
       "  <tbody>\n",
       "    <tr>\n",
       "      <th>0</th>\n",
       "      <td>2022-05-04</td>\n",
       "      <td>1312.0</td>\n",
       "    </tr>\n",
       "    <tr>\n",
       "      <th>1</th>\n",
       "      <td>2022-05-05</td>\n",
       "      <td>1269.0</td>\n",
       "    </tr>\n",
       "    <tr>\n",
       "      <th>2</th>\n",
       "      <td>2022-05-06</td>\n",
       "      <td>1134.0</td>\n",
       "    </tr>\n",
       "    <tr>\n",
       "      <th>3</th>\n",
       "      <td>2022-05-03</td>\n",
       "      <td>748.0</td>\n",
       "    </tr>\n",
       "    <tr>\n",
       "      <th>4</th>\n",
       "      <td>2022-05-02</td>\n",
       "      <td>648.0</td>\n",
       "    </tr>\n",
       "  </tbody>\n",
       "</table>\n",
       "</div>"
      ],
      "text/plain": [
       "         date  visits\n",
       "0  2022-05-04  1312.0\n",
       "1  2022-05-05  1269.0\n",
       "2  2022-05-06  1134.0\n",
       "3  2022-05-03   748.0\n",
       "4  2022-05-02   648.0"
      ]
     },
     "execution_count": 41,
     "metadata": {},
     "output_type": "execute_result"
    }
   ],
   "source": [
    "# Преобразование полученного json в dataframe\n",
    "\n",
    "visits_data = pd.DataFrame([(\n",
    "                             i['dimensions'][0]['name'],\n",
    "                             i['metrics'][0]) for i in json_data['data']], \n",
    "                           columns=['date', 'visits'])\n",
    "visits_data.head()"
   ]
  },
  {
   "cell_type": "code",
   "execution_count": 42,
   "metadata": {},
   "outputs": [],
   "source": [
    "# Экспортируем преобразованные данные с Яндекс.Метрики в таблицу Google SpreadSheets.\n",
    "# Укажем адрес электронной почты и путь к нашему файлу с учетными данными\n",
    "\n",
    "my_mail = 'velocityvectormusic@gmail.com'\n",
    "path_to_credential = 'testapi-349616-0467ce454ac4.json' \n",
    "scope = ['https://spreadsheets.google.com/feeds',\n",
    "         'https://www.googleapis.com/auth/drive']"
   ]
  },
  {
   "cell_type": "code",
   "execution_count": 43,
   "metadata": {},
   "outputs": [],
   "source": [
    "# Авторизация\n",
    "\n",
    "credentials = ServiceAccountCredentials.from_json_keyfile_name(path_to_credential, scope)\n",
    "gs = gspread.authorize(credentials)"
   ]
  },
  {
   "cell_type": "code",
   "execution_count": 44,
   "metadata": {},
   "outputs": [],
   "source": [
    "# Создание новой таблицы\n",
    "\n",
    "spreadsheet_name = 'A new spreadsheet'\n",
    "sheet = gs.create(spreadsheet_name)"
   ]
  },
  {
   "cell_type": "code",
   "execution_count": 45,
   "metadata": {},
   "outputs": [],
   "source": [
    "# Настройка прав доступа к новой таблице\n",
    "\n",
    "sheet.share(my_mail, perm_type='user', role='writer')"
   ]
  },
  {
   "cell_type": "code",
   "execution_count": 46,
   "metadata": {},
   "outputs": [
    {
     "data": {
      "text/plain": [
       "<Worksheet 'Yandex_visits' id:1638118855>"
      ]
     },
     "execution_count": 46,
     "metadata": {},
     "output_type": "execute_result"
    }
   ],
   "source": [
    "# Экспорт датафрэйма в созданную таблицу\n",
    "# Задаем новое название для внутреннего листа документа\n",
    "\n",
    "sheet = 'Yandex_visits'\n",
    "d2g.upload(visits_data, spreadsheet_name, sheet, credentials=credentials, row_names=True)"
   ]
  },
  {
   "cell_type": "code",
   "execution_count": 47,
   "metadata": {},
   "outputs": [
    {
     "data": {
      "text/plain": [
       "'https://docs.google.com/spreadsheets/d/1m09efi6R41s7lAGC8rju80IH0E67oTFLZJzyWC0W5R0'"
      ]
     },
     "execution_count": 47,
     "metadata": {},
     "output_type": "execute_result"
    }
   ],
   "source": [
    "# Получение ссылки на созданный документ\n",
    "\n",
    "sheet = gs.create(spreadsheet_name)\n",
    "spreadsheet_url = \"https://docs.google.com/spreadsheets/d/%s\" % sheet.id\n",
    "spreadsheet_url"
   ]
  }
 ],
 "metadata": {
  "kernelspec": {
   "display_name": "Python 3",
   "language": "python",
   "name": "python3"
  },
  "language_info": {
   "codemirror_mode": {
    "name": "ipython",
    "version": 3
   },
   "file_extension": ".py",
   "mimetype": "text/x-python",
   "name": "python",
   "nbconvert_exporter": "python",
   "pygments_lexer": "ipython3",
   "version": "3.7.3"
  }
 },
 "nbformat": 4,
 "nbformat_minor": 4
}
