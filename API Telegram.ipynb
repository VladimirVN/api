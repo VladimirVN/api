{
 "cells": [
  {
   "cell_type": "code",
   "execution_count": 87,
   "metadata": {},
   "outputs": [],
   "source": [
    "############################################################################\n",
    "# Использование API Telegram\n",
    "############################################################################\n",
    "\n",
    "\n",
    "############################################################################\n",
    "# Описание API\n",
    "#\n",
    "# API для Telegram, позволяет программно выполнять действия, например, \n",
    "# писать сообщения, отправлять файлы.\n",
    "# Документация по API Telegram: https://core.telegram.org/bots       \n",
    "############################################################################"
   ]
  },
  {
   "cell_type": "code",
   "execution_count": 88,
   "metadata": {},
   "outputs": [],
   "source": [
    "# Импортируем библиотеки\n",
    "\n",
    "import pandas as pd\n",
    "import datetime\n",
    "import os\n",
    "import random\n",
    "import sys\n",
    "import requests\n",
    "import json\n",
    "from urllib.parse import urlencode"
   ]
  },
  {
   "cell_type": "code",
   "execution_count": 89,
   "metadata": {},
   "outputs": [],
   "source": [
    "# Создаем уникальный ключ\n",
    "\n",
    "token = '3liCsVU1nPdy'"
   ]
  },
  {
   "cell_type": "code",
   "execution_count": 90,
   "metadata": {},
   "outputs": [],
   "source": [
    "# Обращаемся к id чата с ботом https://api.telegram.org/bot3liCsVU1nPdy/getUpdates\n",
    "\n",
    "chat_id = 6985"
   ]
  },
  {
   "cell_type": "code",
   "execution_count": 91,
   "metadata": {},
   "outputs": [],
   "source": [
    "# Сообщение отправляемое для бота\n",
    "\n",
    "message = 'Hello, world!'\n",
    "\n",
    "params = {'chat_id': chat_id, 'text': message}\n",
    "\n",
    "base_url = f'https://api.telegram.org/bot{token}/'\n",
    "\n",
    "url = base_url + 'sendMessage?' + urlencode(params)\n",
    "\n",
    "resp = requests.get(url)"
   ]
  },
  {
   "cell_type": "code",
   "execution_count": 134,
   "metadata": {},
   "outputs": [
    {
     "data": {
      "text/plain": [
       "'Hello, world!'"
      ]
     },
     "execution_count": 134,
     "metadata": {},
     "output_type": "execute_result"
    }
   ],
   "source": [
    "# Контроль передаваемых параметров\n",
    "\n",
    "message"
   ]
  },
  {
   "cell_type": "code",
   "execution_count": 144,
   "metadata": {},
   "outputs": [
    {
     "data": {
      "text/plain": [
       "<Response [200]>"
      ]
     },
     "execution_count": 144,
     "metadata": {},
     "output_type": "execute_result"
    }
   ],
   "source": [
    "# Код ответа о статусе \"200\" указывает, что запрос выполнен успешно\n",
    "\n",
    "resp"
   ]
  },
  {
   "cell_type": "code",
   "execution_count": 145,
   "metadata": {},
   "outputs": [],
   "source": [
    "# Отправка документов\n",
    "\n",
    "filepath = 'sample_ads.csv'\n",
    "\n",
    "url = base_url + 'sendDocument?' + urlencode(params)\n",
    "\n",
    "files = {'document': open(filepath, 'rb')}\n",
    "\n",
    "resp = requests.get(url, files=files)"
   ]
  }
 ],
 "metadata": {
  "kernelspec": {
   "display_name": "Python 3",
   "language": "python",
   "name": "python3"
  },
  "language_info": {
   "codemirror_mode": {
    "name": "ipython",
    "version": 3
   },
   "file_extension": ".py",
   "mimetype": "text/x-python",
   "name": "python",
   "nbconvert_exporter": "python",
   "pygments_lexer": "ipython3",
   "version": "3.7.3"
  }
 },
 "nbformat": 4,
 "nbformat_minor": 4
}
